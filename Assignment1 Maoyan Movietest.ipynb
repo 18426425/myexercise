{
 "cells": [
  {
   "cell_type": "code",
   "execution_count": 1,
   "metadata": {},
   "outputs": [],
   "source": [
    "import requests"
   ]
  },
  {
   "cell_type": "code",
   "execution_count": 2,
   "metadata": {},
   "outputs": [],
   "source": [
    "head = {'User-Agent':'User-Agent: Mozilla/5.0 (Macintosh; Intel Mac OS X 10_14_0) AppleWebKit/537.36 (KHTML, like Gecko) Chrome/70.0.3538.77 Safari/537.36'}\n",
    "res = requests.get('http://maoyan.com/board/4?offset=0', headers = head)\n",
    "res.encoding = 'utf-8'"
   ]
  },
  {
   "cell_type": "code",
   "execution_count": 3,
   "metadata": {},
   "outputs": [],
   "source": [
    "from bs4 import BeautifulSoup"
   ]
  },
  {
   "cell_type": "code",
   "execution_count": 4,
   "metadata": {},
   "outputs": [],
   "source": [
    "soup = BeautifulSoup(res.text,'html.parser')\n",
    "#soup.text"
   ]
  },
  {
   "cell_type": "code",
   "execution_count": 5,
   "metadata": {},
   "outputs": [],
   "source": [
    "#mypage = BeautifulSoup(res.text)"
   ]
  },
  {
   "cell_type": "code",
   "execution_count": 6,
   "metadata": {},
   "outputs": [
    {
     "data": {
      "text/plain": [
       "['霸王别姬',\n",
       " '肖申克的救赎',\n",
       " '罗马假日',\n",
       " '这个杀手不太冷',\n",
       " '教父',\n",
       " '泰坦尼克号',\n",
       " '唐伯虎点秋香',\n",
       " '千与千寻',\n",
       " '魂断蓝桥',\n",
       " '乱世佳人']"
      ]
     },
     "execution_count": 6,
     "metadata": {},
     "output_type": "execute_result"
    }
   ],
   "source": [
    "titles = [a.attrs.get('title') for a in soup.select('p.name a')]\n",
    "titles"
   ]
  },
  {
   "cell_type": "code",
   "execution_count": 7,
   "metadata": {},
   "outputs": [
    {
     "data": {
      "text/plain": [
       "['\\n                主演：张国荣,张丰毅,巩俐\\n        ',\n",
       " '\\n                主演：蒂姆·罗宾斯,摩根·弗里曼,鲍勃·冈顿\\n        ',\n",
       " '\\n                主演：格利高里·派克,奥黛丽·赫本,埃迪·艾伯特\\n        ',\n",
       " '\\n                主演：让·雷诺,加里·奥德曼,娜塔莉·波特曼\\n        ',\n",
       " '\\n                主演：马龙·白兰度,阿尔·帕西诺,詹姆斯·肯恩\\n        ',\n",
       " '\\n                主演：莱昂纳多·迪卡普里奥,凯特·温丝莱特,比利·赞恩\\n        ',\n",
       " '\\n                主演：周星驰,巩俐,郑佩佩\\n        ',\n",
       " '\\n                主演：柊瑠美,入野自由,夏木真理\\n        ',\n",
       " '\\n                主演：费雯·丽,罗伯特·泰勒,露塞尔·沃特森\\n        ',\n",
       " '\\n                主演：费雯·丽,克拉克·盖博,奥利维娅·德哈维兰\\n        ']"
      ]
     },
     "execution_count": 7,
     "metadata": {},
     "output_type": "execute_result"
    }
   ],
   "source": [
    "stars = [i.text for i in soup.select('p.star')]\n",
    "stars\n",
    "#del stars[0]"
   ]
  },
  {
   "cell_type": "code",
   "execution_count": 8,
   "metadata": {},
   "outputs": [],
   "source": [
    "time_countries = [n.text for n in soup.select('p.releasetime')]"
   ]
  },
  {
   "cell_type": "code",
   "execution_count": 9,
   "metadata": {},
   "outputs": [
    {
     "data": {
      "text/plain": [
       "['上映时间：1993-01-01',\n",
       " '上映时间：1994-10-14(美国)',\n",
       " '上映时间：1953-09-02(美国)',\n",
       " '上映时间：1994-09-14(法国)',\n",
       " '上映时间：1972-03-24(美国)',\n",
       " '上映时间：1998-04-03',\n",
       " '上映时间：1993-07-01(中国香港)',\n",
       " '上映时间：2001-07-20(日本)',\n",
       " '上映时间：1940-05-17(美国)',\n",
       " '上映时间：1939-12-15(美国)']"
      ]
     },
     "execution_count": 9,
     "metadata": {},
     "output_type": "execute_result"
    }
   ],
   "source": [
    "time_countries"
   ]
  },
  {
   "cell_type": "code",
   "execution_count": 10,
   "metadata": {},
   "outputs": [
    {
     "data": {
      "text/plain": [
       "['9.6', '9.5', '9.1', '9.5', '9.3', '9.5', '9.2', '9.3', '9.2', '9.1']"
      ]
     },
     "execution_count": 10,
     "metadata": {},
     "output_type": "execute_result"
    }
   ],
   "source": [
    "scores = [s.text for s in soup.select('p.score')]\n",
    "\n",
    "#del scores[0] \n",
    "scores"
   ]
  },
  {
   "cell_type": "code",
   "execution_count": 11,
   "metadata": {},
   "outputs": [
    {
     "data": {
      "text/plain": [
       "['霸王别姬',\n",
       " '肖申克的救赎',\n",
       " '罗马假日',\n",
       " '这个杀手不太冷',\n",
       " '教父',\n",
       " '泰坦尼克号',\n",
       " '唐伯虎点秋香',\n",
       " '千与千寻',\n",
       " '魂断蓝桥',\n",
       " '乱世佳人']"
      ]
     },
     "execution_count": 11,
     "metadata": {},
     "output_type": "execute_result"
    }
   ],
   "source": [
    "titles"
   ]
  },
  {
   "cell_type": "code",
   "execution_count": 12,
   "metadata": {},
   "outputs": [],
   "source": [
    "moviechart = list(zip(titles, stars, time_countries, scores))"
   ]
  },
  {
   "cell_type": "code",
   "execution_count": 13,
   "metadata": {},
   "outputs": [
    {
     "name": "stdout",
     "output_type": "stream",
     "text": [
      "titles,stars,time_countries,scores\r",
      "\r\n",
      "霸王别姬,\"\r\n",
      "                主演：张国荣,张丰毅,巩俐\r\n",
      "        \",上映时间：1993-01-01,9.6\r",
      "\r\n",
      "肖申克的救赎,\"\r\n",
      "                主演：蒂姆·罗宾斯,摩根·弗里曼,鲍勃·冈顿\r\n",
      "        \",上映时间：1994-10-14(美国),9.5\r",
      "\r\n",
      "罗马假日,\"\r\n",
      "                主演：格利高里·派克,奥黛丽·赫本,埃迪·艾伯特\r\n",
      "        \",上映时间：1953-09-02(美国),9.1\r",
      "\r\n",
      "这个杀手不太冷,\"\r\n",
      "                主演：让·雷诺,加里·奥德曼,娜塔莉·波特曼\r\n",
      "        \",上映时间：1994-09-14(法国),9.5\r",
      "\r\n",
      "教父,\"\r\n",
      "                主演：马龙·白兰度,阿尔·帕西诺,詹姆斯·肯恩\r\n",
      "        \",上映时间：1972-03-24(美国),9.3\r",
      "\r\n",
      "泰坦尼克号,\"\r\n",
      "                主演：莱昂纳多·迪卡普里奥,凯特·温丝莱特,比利·赞恩\r\n",
      "        \",上映时间：1998-04-03,9.5\r",
      "\r\n",
      "唐伯虎点秋香,\"\r\n",
      "                主演：周星驰,巩俐,郑佩佩\r\n",
      "        \",上映时间：1993-07-01(中国香港),9.2\r",
      "\r\n",
      "千与千寻,\"\r\n",
      "                主演：柊瑠美,入野自由,夏木真理\r\n",
      "        \",上映时间：2001-07-20(日本),9.3\r",
      "\r\n",
      "魂断蓝桥,\"\r\n",
      "                主演：费雯·丽,罗伯特·泰勒,露塞尔·沃特森\r\n",
      "        \",上映时间：1940-05-17(美国),9.2\r",
      "\r\n",
      "乱世佳人,\"\r\n",
      "                主演：费雯·丽,克拉克·盖博,奥利维娅·德哈维兰\r\n",
      "        \",上映时间：1939-12-15(美国),9.1\r",
      "\r\n"
     ]
    }
   ],
   "source": [
    "!cat movie.csv"
   ]
  },
  {
   "cell_type": "code",
   "execution_count": 14,
   "metadata": {},
   "outputs": [],
   "source": [
    "import csv\n",
    "with open('movie.csv','w',newline='',encoding='utf8') as f:\n",
    "    writer = csv.writer(f)\n",
    "    header = ['titles', 'stars', 'time_countries', 'scores']\n",
    "    writer.writerow(header)\n",
    "    writer.writerows(moviechart)"
   ]
  },
  {
   "cell_type": "code",
   "execution_count": 15,
   "metadata": {},
   "outputs": [
    {
     "data": {
      "text/plain": [
       "[('霸王别姬',\n",
       "  '\\n                主演：张国荣,张丰毅,巩俐\\n        ',\n",
       "  '上映时间：1993-01-01',\n",
       "  '9.6'),\n",
       " ('肖申克的救赎',\n",
       "  '\\n                主演：蒂姆·罗宾斯,摩根·弗里曼,鲍勃·冈顿\\n        ',\n",
       "  '上映时间：1994-10-14(美国)',\n",
       "  '9.5'),\n",
       " ('罗马假日',\n",
       "  '\\n                主演：格利高里·派克,奥黛丽·赫本,埃迪·艾伯特\\n        ',\n",
       "  '上映时间：1953-09-02(美国)',\n",
       "  '9.1'),\n",
       " ('这个杀手不太冷',\n",
       "  '\\n                主演：让·雷诺,加里·奥德曼,娜塔莉·波特曼\\n        ',\n",
       "  '上映时间：1994-09-14(法国)',\n",
       "  '9.5'),\n",
       " ('教父',\n",
       "  '\\n                主演：马龙·白兰度,阿尔·帕西诺,詹姆斯·肯恩\\n        ',\n",
       "  '上映时间：1972-03-24(美国)',\n",
       "  '9.3'),\n",
       " ('泰坦尼克号',\n",
       "  '\\n                主演：莱昂纳多·迪卡普里奥,凯特·温丝莱特,比利·赞恩\\n        ',\n",
       "  '上映时间：1998-04-03',\n",
       "  '9.5'),\n",
       " ('唐伯虎点秋香',\n",
       "  '\\n                主演：周星驰,巩俐,郑佩佩\\n        ',\n",
       "  '上映时间：1993-07-01(中国香港)',\n",
       "  '9.2'),\n",
       " ('千与千寻',\n",
       "  '\\n                主演：柊瑠美,入野自由,夏木真理\\n        ',\n",
       "  '上映时间：2001-07-20(日本)',\n",
       "  '9.3'),\n",
       " ('魂断蓝桥',\n",
       "  '\\n                主演：费雯·丽,罗伯特·泰勒,露塞尔·沃特森\\n        ',\n",
       "  '上映时间：1940-05-17(美国)',\n",
       "  '9.2'),\n",
       " ('乱世佳人',\n",
       "  '\\n                主演：费雯·丽,克拉克·盖博,奥利维娅·德哈维兰\\n        ',\n",
       "  '上映时间：1939-12-15(美国)',\n",
       "  '9.1')]"
      ]
     },
     "execution_count": 15,
     "metadata": {},
     "output_type": "execute_result"
    }
   ],
   "source": [
    "moviechart\n"
   ]
  },
  {
   "cell_type": "code",
   "execution_count": 16,
   "metadata": {},
   "outputs": [],
   "source": [
    "import pandas as pd"
   ]
  },
  {
   "cell_type": "code",
   "execution_count": 17,
   "metadata": {},
   "outputs": [],
   "source": [
    "df = pd.read_csv('movie.csv')"
   ]
  },
  {
   "cell_type": "code",
   "execution_count": 18,
   "metadata": {},
   "outputs": [
    {
     "data": {
      "text/html": [
       "<div>\n",
       "<style scoped>\n",
       "    .dataframe tbody tr th:only-of-type {\n",
       "        vertical-align: middle;\n",
       "    }\n",
       "\n",
       "    .dataframe tbody tr th {\n",
       "        vertical-align: top;\n",
       "    }\n",
       "\n",
       "    .dataframe thead th {\n",
       "        text-align: right;\n",
       "    }\n",
       "</style>\n",
       "<table border=\"1\" class=\"dataframe\">\n",
       "  <thead>\n",
       "    <tr style=\"text-align: right;\">\n",
       "      <th></th>\n",
       "      <th>titles</th>\n",
       "      <th>stars</th>\n",
       "      <th>time_countries</th>\n",
       "      <th>scores</th>\n",
       "      <th>date</th>\n",
       "    </tr>\n",
       "  </thead>\n",
       "  <tbody>\n",
       "    <tr>\n",
       "      <th>0</th>\n",
       "      <td>霸王别姬</td>\n",
       "      <td>\\n                主演：张国荣,张丰毅,巩俐\\n</td>\n",
       "      <td>上映时间：1993-01-01</td>\n",
       "      <td>9.6</td>\n",
       "      <td>1993-01-01</td>\n",
       "    </tr>\n",
       "    <tr>\n",
       "      <th>1</th>\n",
       "      <td>肖申克的救赎</td>\n",
       "      <td>\\n                主演：蒂姆·罗宾斯,摩根·弗里曼,鲍勃·冈顿\\n    ...</td>\n",
       "      <td>上映时间：1994-10-14(美国)</td>\n",
       "      <td>9.5</td>\n",
       "      <td>1994-10-14</td>\n",
       "    </tr>\n",
       "    <tr>\n",
       "      <th>2</th>\n",
       "      <td>罗马假日</td>\n",
       "      <td>\\n                主演：格利高里·派克,奥黛丽·赫本,埃迪·艾伯特\\n  ...</td>\n",
       "      <td>上映时间：1953-09-02(美国)</td>\n",
       "      <td>9.1</td>\n",
       "      <td>1953-09-02</td>\n",
       "    </tr>\n",
       "    <tr>\n",
       "      <th>3</th>\n",
       "      <td>这个杀手不太冷</td>\n",
       "      <td>\\n                主演：让·雷诺,加里·奥德曼,娜塔莉·波特曼\\n    ...</td>\n",
       "      <td>上映时间：1994-09-14(法国)</td>\n",
       "      <td>9.5</td>\n",
       "      <td>1994-09-14</td>\n",
       "    </tr>\n",
       "    <tr>\n",
       "      <th>4</th>\n",
       "      <td>教父</td>\n",
       "      <td>\\n                主演：马龙·白兰度,阿尔·帕西诺,詹姆斯·肯恩\\n   ...</td>\n",
       "      <td>上映时间：1972-03-24(美国)</td>\n",
       "      <td>9.3</td>\n",
       "      <td>1972-03-24</td>\n",
       "    </tr>\n",
       "    <tr>\n",
       "      <th>5</th>\n",
       "      <td>泰坦尼克号</td>\n",
       "      <td>\\n                主演：莱昂纳多·迪卡普里奥,凯特·温丝莱特,比利·赞恩\\...</td>\n",
       "      <td>上映时间：1998-04-03</td>\n",
       "      <td>9.5</td>\n",
       "      <td>1998-04-03</td>\n",
       "    </tr>\n",
       "    <tr>\n",
       "      <th>6</th>\n",
       "      <td>唐伯虎点秋香</td>\n",
       "      <td>\\n                主演：周星驰,巩俐,郑佩佩\\n</td>\n",
       "      <td>上映时间：1993-07-01(中国香港)</td>\n",
       "      <td>9.2</td>\n",
       "      <td>1993-07-01</td>\n",
       "    </tr>\n",
       "    <tr>\n",
       "      <th>7</th>\n",
       "      <td>千与千寻</td>\n",
       "      <td>\\n                主演：柊瑠美,入野自由,夏木真理\\n</td>\n",
       "      <td>上映时间：2001-07-20(日本)</td>\n",
       "      <td>9.3</td>\n",
       "      <td>2001-07-20</td>\n",
       "    </tr>\n",
       "    <tr>\n",
       "      <th>8</th>\n",
       "      <td>魂断蓝桥</td>\n",
       "      <td>\\n                主演：费雯·丽,罗伯特·泰勒,露塞尔·沃特森\\n    ...</td>\n",
       "      <td>上映时间：1940-05-17(美国)</td>\n",
       "      <td>9.2</td>\n",
       "      <td>1940-05-17</td>\n",
       "    </tr>\n",
       "    <tr>\n",
       "      <th>9</th>\n",
       "      <td>乱世佳人</td>\n",
       "      <td>\\n                主演：费雯·丽,克拉克·盖博,奥利维娅·德哈维兰\\n  ...</td>\n",
       "      <td>上映时间：1939-12-15(美国)</td>\n",
       "      <td>9.1</td>\n",
       "      <td>1939-12-15</td>\n",
       "    </tr>\n",
       "  </tbody>\n",
       "</table>\n",
       "</div>"
      ],
      "text/plain": [
       "    titles                                              stars  \\\n",
       "0     霸王别姬          \\n                主演：张国荣,张丰毅,巩俐\\n           \n",
       "1   肖申克的救赎  \\n                主演：蒂姆·罗宾斯,摩根·弗里曼,鲍勃·冈顿\\n    ...   \n",
       "2     罗马假日  \\n                主演：格利高里·派克,奥黛丽·赫本,埃迪·艾伯特\\n  ...   \n",
       "3  这个杀手不太冷  \\n                主演：让·雷诺,加里·奥德曼,娜塔莉·波特曼\\n    ...   \n",
       "4       教父  \\n                主演：马龙·白兰度,阿尔·帕西诺,詹姆斯·肯恩\\n   ...   \n",
       "5    泰坦尼克号  \\n                主演：莱昂纳多·迪卡普里奥,凯特·温丝莱特,比利·赞恩\\...   \n",
       "6   唐伯虎点秋香          \\n                主演：周星驰,巩俐,郑佩佩\\n           \n",
       "7     千与千寻       \\n                主演：柊瑠美,入野自由,夏木真理\\n           \n",
       "8     魂断蓝桥  \\n                主演：费雯·丽,罗伯特·泰勒,露塞尔·沃特森\\n    ...   \n",
       "9     乱世佳人  \\n                主演：费雯·丽,克拉克·盖博,奥利维娅·德哈维兰\\n  ...   \n",
       "\n",
       "          time_countries  scores        date  \n",
       "0        上映时间：1993-01-01     9.6  1993-01-01  \n",
       "1    上映时间：1994-10-14(美国)     9.5  1994-10-14  \n",
       "2    上映时间：1953-09-02(美国)     9.1  1953-09-02  \n",
       "3    上映时间：1994-09-14(法国)     9.5  1994-09-14  \n",
       "4    上映时间：1972-03-24(美国)     9.3  1972-03-24  \n",
       "5        上映时间：1998-04-03     9.5  1998-04-03  \n",
       "6  上映时间：1993-07-01(中国香港)     9.2  1993-07-01  \n",
       "7    上映时间：2001-07-20(日本)     9.3  2001-07-20  \n",
       "8    上映时间：1940-05-17(美国)     9.2  1940-05-17  \n",
       "9    上映时间：1939-12-15(美国)     9.1  1939-12-15  "
      ]
     },
     "execution_count": 18,
     "metadata": {},
     "output_type": "execute_result"
    }
   ],
   "source": [
    "def get_date(x):\n",
    "    return x.split('：')[1].split('(')[0]\n",
    "df['date'] = df['time_countries'].apply(get_date)\n",
    "df"
   ]
  },
  {
   "cell_type": "code",
   "execution_count": 19,
   "metadata": {},
   "outputs": [
    {
     "data": {
      "text/plain": [
       "15"
      ]
     },
     "execution_count": 19,
     "metadata": {},
     "output_type": "execute_result"
    }
   ],
   "source": [
    "len('上映时间：1939-12-15')"
   ]
  },
  {
   "cell_type": "code",
   "execution_count": 20,
   "metadata": {},
   "outputs": [
    {
     "name": "stdout",
     "output_type": "stream",
     "text": [
      "上映时间：1993-01-01\n",
      "上映时间：1994-10-14(美国)\n",
      "上映时间：1953-09-02(美国)\n",
      "上映时间：1994-09-14(法国)\n",
      "上映时间：1972-03-24(美国)\n",
      "上映时间：1998-04-03\n",
      "上映时间：1993-07-01(中国香港)\n",
      "上映时间：2001-07-20(日本)\n",
      "上映时间：1940-05-17(美国)\n",
      "上映时间：1939-12-15(美国)\n"
     ]
    }
   ],
   "source": [
    "for time_country in time_countries:\n",
    "    print(time_country)"
   ]
  },
  {
   "cell_type": "code",
   "execution_count": 21,
   "metadata": {},
   "outputs": [
    {
     "name": "stdout",
     "output_type": "stream",
     "text": [
      "['上映时间：1993-01-01', '上映时间：1994-10-14(美国)', '上映时间：1953-09-02(美国)', '上映时间：1994-09-14(法国)', '上映时间：1972-03-24(美国)', '上映时间：1998-04-03', '上映时间：1993-07-01(中国香港)', '上映时间：2001-07-20(日本)', '上映时间：1940-05-17(美国)', '上映时间：1939-12-15(美国)']\n"
     ]
    }
   ],
   "source": [
    "print(time_countries)"
   ]
  },
  {
   "cell_type": "code",
   "execution_count": 23,
   "metadata": {},
   "outputs": [
    {
     "data": {
      "text/html": [
       "<div>\n",
       "<style scoped>\n",
       "    .dataframe tbody tr th:only-of-type {\n",
       "        vertical-align: middle;\n",
       "    }\n",
       "\n",
       "    .dataframe tbody tr th {\n",
       "        vertical-align: top;\n",
       "    }\n",
       "\n",
       "    .dataframe thead th {\n",
       "        text-align: right;\n",
       "    }\n",
       "</style>\n",
       "<table border=\"1\" class=\"dataframe\">\n",
       "  <thead>\n",
       "    <tr style=\"text-align: right;\">\n",
       "      <th></th>\n",
       "      <th>titles</th>\n",
       "      <th>stars</th>\n",
       "      <th>time_countries</th>\n",
       "      <th>scores</th>\n",
       "      <th>date</th>\n",
       "    </tr>\n",
       "  </thead>\n",
       "  <tbody>\n",
       "    <tr>\n",
       "      <th>0</th>\n",
       "      <td>霸王别姬</td>\n",
       "      <td>\\n                主演：张国荣,张丰毅,巩俐\\n</td>\n",
       "      <td>上映时间：1993-01-01</td>\n",
       "      <td>9.6</td>\n",
       "      <td>1993-01-01</td>\n",
       "    </tr>\n",
       "    <tr>\n",
       "      <th>1</th>\n",
       "      <td>肖申克的救赎</td>\n",
       "      <td>\\n                主演：蒂姆·罗宾斯,摩根·弗里曼,鲍勃·冈顿\\n    ...</td>\n",
       "      <td>上映时间：1994-10-14(美国)</td>\n",
       "      <td>9.5</td>\n",
       "      <td>1994-10-14</td>\n",
       "    </tr>\n",
       "    <tr>\n",
       "      <th>2</th>\n",
       "      <td>罗马假日</td>\n",
       "      <td>\\n                主演：格利高里·派克,奥黛丽·赫本,埃迪·艾伯特\\n  ...</td>\n",
       "      <td>上映时间：1953-09-02(美国)</td>\n",
       "      <td>9.1</td>\n",
       "      <td>1953-09-02</td>\n",
       "    </tr>\n",
       "    <tr>\n",
       "      <th>3</th>\n",
       "      <td>这个杀手不太冷</td>\n",
       "      <td>\\n                主演：让·雷诺,加里·奥德曼,娜塔莉·波特曼\\n    ...</td>\n",
       "      <td>上映时间：1994-09-14(法国)</td>\n",
       "      <td>9.5</td>\n",
       "      <td>1994-09-14</td>\n",
       "    </tr>\n",
       "    <tr>\n",
       "      <th>4</th>\n",
       "      <td>教父</td>\n",
       "      <td>\\n                主演：马龙·白兰度,阿尔·帕西诺,詹姆斯·肯恩\\n   ...</td>\n",
       "      <td>上映时间：1972-03-24(美国)</td>\n",
       "      <td>9.3</td>\n",
       "      <td>1972-03-24</td>\n",
       "    </tr>\n",
       "    <tr>\n",
       "      <th>5</th>\n",
       "      <td>泰坦尼克号</td>\n",
       "      <td>\\n                主演：莱昂纳多·迪卡普里奥,凯特·温丝莱特,比利·赞恩\\...</td>\n",
       "      <td>上映时间：1998-04-03</td>\n",
       "      <td>9.5</td>\n",
       "      <td>1998-04-03</td>\n",
       "    </tr>\n",
       "    <tr>\n",
       "      <th>6</th>\n",
       "      <td>唐伯虎点秋香</td>\n",
       "      <td>\\n                主演：周星驰,巩俐,郑佩佩\\n</td>\n",
       "      <td>上映时间：1993-07-01(中国香港)</td>\n",
       "      <td>9.2</td>\n",
       "      <td>1993-07-01</td>\n",
       "    </tr>\n",
       "    <tr>\n",
       "      <th>7</th>\n",
       "      <td>千与千寻</td>\n",
       "      <td>\\n                主演：柊瑠美,入野自由,夏木真理\\n</td>\n",
       "      <td>上映时间：2001-07-20(日本)</td>\n",
       "      <td>9.3</td>\n",
       "      <td>2001-07-20</td>\n",
       "    </tr>\n",
       "    <tr>\n",
       "      <th>8</th>\n",
       "      <td>魂断蓝桥</td>\n",
       "      <td>\\n                主演：费雯·丽,罗伯特·泰勒,露塞尔·沃特森\\n    ...</td>\n",
       "      <td>上映时间：1940-05-17(美国)</td>\n",
       "      <td>9.2</td>\n",
       "      <td>1940-05-17</td>\n",
       "    </tr>\n",
       "    <tr>\n",
       "      <th>9</th>\n",
       "      <td>乱世佳人</td>\n",
       "      <td>\\n                主演：费雯·丽,克拉克·盖博,奥利维娅·德哈维兰\\n  ...</td>\n",
       "      <td>上映时间：1939-12-15(美国)</td>\n",
       "      <td>9.1</td>\n",
       "      <td>1939-12-15</td>\n",
       "    </tr>\n",
       "  </tbody>\n",
       "</table>\n",
       "</div>"
      ],
      "text/plain": [
       "    titles                                              stars  \\\n",
       "0     霸王别姬          \\n                主演：张国荣,张丰毅,巩俐\\n           \n",
       "1   肖申克的救赎  \\n                主演：蒂姆·罗宾斯,摩根·弗里曼,鲍勃·冈顿\\n    ...   \n",
       "2     罗马假日  \\n                主演：格利高里·派克,奥黛丽·赫本,埃迪·艾伯特\\n  ...   \n",
       "3  这个杀手不太冷  \\n                主演：让·雷诺,加里·奥德曼,娜塔莉·波特曼\\n    ...   \n",
       "4       教父  \\n                主演：马龙·白兰度,阿尔·帕西诺,詹姆斯·肯恩\\n   ...   \n",
       "5    泰坦尼克号  \\n                主演：莱昂纳多·迪卡普里奥,凯特·温丝莱特,比利·赞恩\\...   \n",
       "6   唐伯虎点秋香          \\n                主演：周星驰,巩俐,郑佩佩\\n           \n",
       "7     千与千寻       \\n                主演：柊瑠美,入野自由,夏木真理\\n           \n",
       "8     魂断蓝桥  \\n                主演：费雯·丽,罗伯特·泰勒,露塞尔·沃特森\\n    ...   \n",
       "9     乱世佳人  \\n                主演：费雯·丽,克拉克·盖博,奥利维娅·德哈维兰\\n  ...   \n",
       "\n",
       "          time_countries  scores        date  \n",
       "0        上映时间：1993-01-01     9.6  1993-01-01  \n",
       "1    上映时间：1994-10-14(美国)     9.5  1994-10-14  \n",
       "2    上映时间：1953-09-02(美国)     9.1  1953-09-02  \n",
       "3    上映时间：1994-09-14(法国)     9.5  1994-09-14  \n",
       "4    上映时间：1972-03-24(美国)     9.3  1972-03-24  \n",
       "5        上映时间：1998-04-03     9.5  1998-04-03  \n",
       "6  上映时间：1993-07-01(中国香港)     9.2  1993-07-01  \n",
       "7    上映时间：2001-07-20(日本)     9.3  2001-07-20  \n",
       "8    上映时间：1940-05-17(美国)     9.2  1940-05-17  \n",
       "9    上映时间：1939-12-15(美国)     9.1  1939-12-15  "
      ]
     },
     "execution_count": 23,
     "metadata": {},
     "output_type": "execute_result"
    }
   ],
   "source": [
    "df"
   ]
  },
  {
   "cell_type": "code",
   "execution_count": 29,
   "metadata": {},
   "outputs": [],
   "source": [
    "# df['time_countries'].str.split('(', 1,expand=True).str\n",
    "df = df.join(df['time_countries'].str.split('(', 1, expand=True).rename(columns={0:'time', 1:'country'}))"
   ]
  },
  {
   "cell_type": "code",
   "execution_count": 30,
   "metadata": {},
   "outputs": [
    {
     "data": {
      "text/html": [
       "<div>\n",
       "<style scoped>\n",
       "    .dataframe tbody tr th:only-of-type {\n",
       "        vertical-align: middle;\n",
       "    }\n",
       "\n",
       "    .dataframe tbody tr th {\n",
       "        vertical-align: top;\n",
       "    }\n",
       "\n",
       "    .dataframe thead th {\n",
       "        text-align: right;\n",
       "    }\n",
       "</style>\n",
       "<table border=\"1\" class=\"dataframe\">\n",
       "  <thead>\n",
       "    <tr style=\"text-align: right;\">\n",
       "      <th></th>\n",
       "      <th>titles</th>\n",
       "      <th>stars</th>\n",
       "      <th>time_countries</th>\n",
       "      <th>scores</th>\n",
       "      <th>date</th>\n",
       "      <th>time</th>\n",
       "      <th>country</th>\n",
       "    </tr>\n",
       "  </thead>\n",
       "  <tbody>\n",
       "    <tr>\n",
       "      <th>0</th>\n",
       "      <td>霸王别姬</td>\n",
       "      <td>\\n                主演：张国荣,张丰毅,巩俐\\n</td>\n",
       "      <td>上映时间：1993-01-01</td>\n",
       "      <td>9.6</td>\n",
       "      <td>1993-01-01</td>\n",
       "      <td>上映时间：1993-01-01</td>\n",
       "      <td>None</td>\n",
       "    </tr>\n",
       "    <tr>\n",
       "      <th>1</th>\n",
       "      <td>肖申克的救赎</td>\n",
       "      <td>\\n                主演：蒂姆·罗宾斯,摩根·弗里曼,鲍勃·冈顿\\n    ...</td>\n",
       "      <td>上映时间：1994-10-14(美国)</td>\n",
       "      <td>9.5</td>\n",
       "      <td>1994-10-14</td>\n",
       "      <td>上映时间：1994-10-14</td>\n",
       "      <td>美国)</td>\n",
       "    </tr>\n",
       "    <tr>\n",
       "      <th>2</th>\n",
       "      <td>罗马假日</td>\n",
       "      <td>\\n                主演：格利高里·派克,奥黛丽·赫本,埃迪·艾伯特\\n  ...</td>\n",
       "      <td>上映时间：1953-09-02(美国)</td>\n",
       "      <td>9.1</td>\n",
       "      <td>1953-09-02</td>\n",
       "      <td>上映时间：1953-09-02</td>\n",
       "      <td>美国)</td>\n",
       "    </tr>\n",
       "    <tr>\n",
       "      <th>3</th>\n",
       "      <td>这个杀手不太冷</td>\n",
       "      <td>\\n                主演：让·雷诺,加里·奥德曼,娜塔莉·波特曼\\n    ...</td>\n",
       "      <td>上映时间：1994-09-14(法国)</td>\n",
       "      <td>9.5</td>\n",
       "      <td>1994-09-14</td>\n",
       "      <td>上映时间：1994-09-14</td>\n",
       "      <td>法国)</td>\n",
       "    </tr>\n",
       "    <tr>\n",
       "      <th>4</th>\n",
       "      <td>教父</td>\n",
       "      <td>\\n                主演：马龙·白兰度,阿尔·帕西诺,詹姆斯·肯恩\\n   ...</td>\n",
       "      <td>上映时间：1972-03-24(美国)</td>\n",
       "      <td>9.3</td>\n",
       "      <td>1972-03-24</td>\n",
       "      <td>上映时间：1972-03-24</td>\n",
       "      <td>美国)</td>\n",
       "    </tr>\n",
       "    <tr>\n",
       "      <th>5</th>\n",
       "      <td>泰坦尼克号</td>\n",
       "      <td>\\n                主演：莱昂纳多·迪卡普里奥,凯特·温丝莱特,比利·赞恩\\...</td>\n",
       "      <td>上映时间：1998-04-03</td>\n",
       "      <td>9.5</td>\n",
       "      <td>1998-04-03</td>\n",
       "      <td>上映时间：1998-04-03</td>\n",
       "      <td>None</td>\n",
       "    </tr>\n",
       "    <tr>\n",
       "      <th>6</th>\n",
       "      <td>唐伯虎点秋香</td>\n",
       "      <td>\\n                主演：周星驰,巩俐,郑佩佩\\n</td>\n",
       "      <td>上映时间：1993-07-01(中国香港)</td>\n",
       "      <td>9.2</td>\n",
       "      <td>1993-07-01</td>\n",
       "      <td>上映时间：1993-07-01</td>\n",
       "      <td>中国香港)</td>\n",
       "    </tr>\n",
       "    <tr>\n",
       "      <th>7</th>\n",
       "      <td>千与千寻</td>\n",
       "      <td>\\n                主演：柊瑠美,入野自由,夏木真理\\n</td>\n",
       "      <td>上映时间：2001-07-20(日本)</td>\n",
       "      <td>9.3</td>\n",
       "      <td>2001-07-20</td>\n",
       "      <td>上映时间：2001-07-20</td>\n",
       "      <td>日本)</td>\n",
       "    </tr>\n",
       "    <tr>\n",
       "      <th>8</th>\n",
       "      <td>魂断蓝桥</td>\n",
       "      <td>\\n                主演：费雯·丽,罗伯特·泰勒,露塞尔·沃特森\\n    ...</td>\n",
       "      <td>上映时间：1940-05-17(美国)</td>\n",
       "      <td>9.2</td>\n",
       "      <td>1940-05-17</td>\n",
       "      <td>上映时间：1940-05-17</td>\n",
       "      <td>美国)</td>\n",
       "    </tr>\n",
       "    <tr>\n",
       "      <th>9</th>\n",
       "      <td>乱世佳人</td>\n",
       "      <td>\\n                主演：费雯·丽,克拉克·盖博,奥利维娅·德哈维兰\\n  ...</td>\n",
       "      <td>上映时间：1939-12-15(美国)</td>\n",
       "      <td>9.1</td>\n",
       "      <td>1939-12-15</td>\n",
       "      <td>上映时间：1939-12-15</td>\n",
       "      <td>美国)</td>\n",
       "    </tr>\n",
       "  </tbody>\n",
       "</table>\n",
       "</div>"
      ],
      "text/plain": [
       "    titles                                              stars  \\\n",
       "0     霸王别姬          \\n                主演：张国荣,张丰毅,巩俐\\n           \n",
       "1   肖申克的救赎  \\n                主演：蒂姆·罗宾斯,摩根·弗里曼,鲍勃·冈顿\\n    ...   \n",
       "2     罗马假日  \\n                主演：格利高里·派克,奥黛丽·赫本,埃迪·艾伯特\\n  ...   \n",
       "3  这个杀手不太冷  \\n                主演：让·雷诺,加里·奥德曼,娜塔莉·波特曼\\n    ...   \n",
       "4       教父  \\n                主演：马龙·白兰度,阿尔·帕西诺,詹姆斯·肯恩\\n   ...   \n",
       "5    泰坦尼克号  \\n                主演：莱昂纳多·迪卡普里奥,凯特·温丝莱特,比利·赞恩\\...   \n",
       "6   唐伯虎点秋香          \\n                主演：周星驰,巩俐,郑佩佩\\n           \n",
       "7     千与千寻       \\n                主演：柊瑠美,入野自由,夏木真理\\n           \n",
       "8     魂断蓝桥  \\n                主演：费雯·丽,罗伯特·泰勒,露塞尔·沃特森\\n    ...   \n",
       "9     乱世佳人  \\n                主演：费雯·丽,克拉克·盖博,奥利维娅·德哈维兰\\n  ...   \n",
       "\n",
       "          time_countries  scores        date             time country  \n",
       "0        上映时间：1993-01-01     9.6  1993-01-01  上映时间：1993-01-01    None  \n",
       "1    上映时间：1994-10-14(美国)     9.5  1994-10-14  上映时间：1994-10-14     美国)  \n",
       "2    上映时间：1953-09-02(美国)     9.1  1953-09-02  上映时间：1953-09-02     美国)  \n",
       "3    上映时间：1994-09-14(法国)     9.5  1994-09-14  上映时间：1994-09-14     法国)  \n",
       "4    上映时间：1972-03-24(美国)     9.3  1972-03-24  上映时间：1972-03-24     美国)  \n",
       "5        上映时间：1998-04-03     9.5  1998-04-03  上映时间：1998-04-03    None  \n",
       "6  上映时间：1993-07-01(中国香港)     9.2  1993-07-01  上映时间：1993-07-01   中国香港)  \n",
       "7    上映时间：2001-07-20(日本)     9.3  2001-07-20  上映时间：2001-07-20     日本)  \n",
       "8    上映时间：1940-05-17(美国)     9.2  1940-05-17  上映时间：1940-05-17     美国)  \n",
       "9    上映时间：1939-12-15(美国)     9.1  1939-12-15  上映时间：1939-12-15     美国)  "
      ]
     },
     "execution_count": 30,
     "metadata": {},
     "output_type": "execute_result"
    }
   ],
   "source": [
    "df"
   ]
  },
  {
   "cell_type": "code",
   "execution_count": 55,
   "metadata": {},
   "outputs": [
    {
     "data": {
      "text/plain": [
       "0    None\n",
       "1      美国\n",
       "2      美国\n",
       "3      法国\n",
       "4      美国\n",
       "5    None\n",
       "6    中国香港\n",
       "7      日本\n",
       "8      美国\n",
       "9      美国\n",
       "Name: country, dtype: object"
      ]
     },
     "execution_count": 55,
     "metadata": {},
     "output_type": "execute_result"
    }
   ],
   "source": [
    "df['country'] = df['country'].str.replace(')','')\n",
    "df['country']"
   ]
  },
  {
   "cell_type": "code",
   "execution_count": null,
   "metadata": {},
   "outputs": [],
   "source": [
    "countries"
   ]
  },
  {
   "cell_type": "code",
   "execution_count": 68,
   "metadata": {},
   "outputs": [
    {
     "data": {
      "text/html": [
       "<div>\n",
       "<style scoped>\n",
       "    .dataframe tbody tr th:only-of-type {\n",
       "        vertical-align: middle;\n",
       "    }\n",
       "\n",
       "    .dataframe tbody tr th {\n",
       "        vertical-align: top;\n",
       "    }\n",
       "\n",
       "    .dataframe thead th {\n",
       "        text-align: right;\n",
       "    }\n",
       "</style>\n",
       "<table border=\"1\" class=\"dataframe\">\n",
       "  <thead>\n",
       "    <tr style=\"text-align: right;\">\n",
       "      <th></th>\n",
       "      <th>titles</th>\n",
       "      <th>stars</th>\n",
       "      <th>time_countries</th>\n",
       "      <th>scores</th>\n",
       "      <th>date</th>\n",
       "      <th>time</th>\n",
       "      <th>country</th>\n",
       "    </tr>\n",
       "  </thead>\n",
       "  <tbody>\n",
       "    <tr>\n",
       "      <th>0</th>\n",
       "      <td>霸王别姬</td>\n",
       "      <td>\\n                主演：张国荣,张丰毅,巩俐\\n</td>\n",
       "      <td>上映时间：1993-01-01</td>\n",
       "      <td>9.6</td>\n",
       "      <td>1993-01-01</td>\n",
       "      <td>上映时间：1993-01-01</td>\n",
       "      <td></td>\n",
       "    </tr>\n",
       "    <tr>\n",
       "      <th>1</th>\n",
       "      <td>肖申克的救赎</td>\n",
       "      <td>\\n                主演：蒂姆·罗宾斯,摩根·弗里曼,鲍勃·冈顿\\n    ...</td>\n",
       "      <td>上映时间：1994-10-14(美国)</td>\n",
       "      <td>9.5</td>\n",
       "      <td>1994-10-14</td>\n",
       "      <td>上映时间：1994-10-14</td>\n",
       "      <td>美国</td>\n",
       "    </tr>\n",
       "    <tr>\n",
       "      <th>2</th>\n",
       "      <td>罗马假日</td>\n",
       "      <td>\\n                主演：格利高里·派克,奥黛丽·赫本,埃迪·艾伯特\\n  ...</td>\n",
       "      <td>上映时间：1953-09-02(美国)</td>\n",
       "      <td>9.1</td>\n",
       "      <td>1953-09-02</td>\n",
       "      <td>上映时间：1953-09-02</td>\n",
       "      <td>美国</td>\n",
       "    </tr>\n",
       "    <tr>\n",
       "      <th>3</th>\n",
       "      <td>这个杀手不太冷</td>\n",
       "      <td>\\n                主演：让·雷诺,加里·奥德曼,娜塔莉·波特曼\\n    ...</td>\n",
       "      <td>上映时间：1994-09-14(法国)</td>\n",
       "      <td>9.5</td>\n",
       "      <td>1994-09-14</td>\n",
       "      <td>上映时间：1994-09-14</td>\n",
       "      <td>法国</td>\n",
       "    </tr>\n",
       "    <tr>\n",
       "      <th>4</th>\n",
       "      <td>教父</td>\n",
       "      <td>\\n                主演：马龙·白兰度,阿尔·帕西诺,詹姆斯·肯恩\\n   ...</td>\n",
       "      <td>上映时间：1972-03-24(美国)</td>\n",
       "      <td>9.3</td>\n",
       "      <td>1972-03-24</td>\n",
       "      <td>上映时间：1972-03-24</td>\n",
       "      <td>美国</td>\n",
       "    </tr>\n",
       "    <tr>\n",
       "      <th>5</th>\n",
       "      <td>泰坦尼克号</td>\n",
       "      <td>\\n                主演：莱昂纳多·迪卡普里奥,凯特·温丝莱特,比利·赞恩\\...</td>\n",
       "      <td>上映时间：1998-04-03</td>\n",
       "      <td>9.5</td>\n",
       "      <td>1998-04-03</td>\n",
       "      <td>上映时间：1998-04-03</td>\n",
       "      <td></td>\n",
       "    </tr>\n",
       "    <tr>\n",
       "      <th>6</th>\n",
       "      <td>唐伯虎点秋香</td>\n",
       "      <td>\\n                主演：周星驰,巩俐,郑佩佩\\n</td>\n",
       "      <td>上映时间：1993-07-01(中国香港)</td>\n",
       "      <td>9.2</td>\n",
       "      <td>1993-07-01</td>\n",
       "      <td>上映时间：1993-07-01</td>\n",
       "      <td>中国香港</td>\n",
       "    </tr>\n",
       "    <tr>\n",
       "      <th>7</th>\n",
       "      <td>千与千寻</td>\n",
       "      <td>\\n                主演：柊瑠美,入野自由,夏木真理\\n</td>\n",
       "      <td>上映时间：2001-07-20(日本)</td>\n",
       "      <td>9.3</td>\n",
       "      <td>2001-07-20</td>\n",
       "      <td>上映时间：2001-07-20</td>\n",
       "      <td>日本</td>\n",
       "    </tr>\n",
       "    <tr>\n",
       "      <th>8</th>\n",
       "      <td>魂断蓝桥</td>\n",
       "      <td>\\n                主演：费雯·丽,罗伯特·泰勒,露塞尔·沃特森\\n    ...</td>\n",
       "      <td>上映时间：1940-05-17(美国)</td>\n",
       "      <td>9.2</td>\n",
       "      <td>1940-05-17</td>\n",
       "      <td>上映时间：1940-05-17</td>\n",
       "      <td>美国</td>\n",
       "    </tr>\n",
       "    <tr>\n",
       "      <th>9</th>\n",
       "      <td>乱世佳人</td>\n",
       "      <td>\\n                主演：费雯·丽,克拉克·盖博,奥利维娅·德哈维兰\\n  ...</td>\n",
       "      <td>上映时间：1939-12-15(美国)</td>\n",
       "      <td>9.1</td>\n",
       "      <td>1939-12-15</td>\n",
       "      <td>上映时间：1939-12-15</td>\n",
       "      <td>美国</td>\n",
       "    </tr>\n",
       "  </tbody>\n",
       "</table>\n",
       "</div>"
      ],
      "text/plain": [
       "    titles                                              stars  \\\n",
       "0     霸王别姬          \\n                主演：张国荣,张丰毅,巩俐\\n           \n",
       "1   肖申克的救赎  \\n                主演：蒂姆·罗宾斯,摩根·弗里曼,鲍勃·冈顿\\n    ...   \n",
       "2     罗马假日  \\n                主演：格利高里·派克,奥黛丽·赫本,埃迪·艾伯特\\n  ...   \n",
       "3  这个杀手不太冷  \\n                主演：让·雷诺,加里·奥德曼,娜塔莉·波特曼\\n    ...   \n",
       "4       教父  \\n                主演：马龙·白兰度,阿尔·帕西诺,詹姆斯·肯恩\\n   ...   \n",
       "5    泰坦尼克号  \\n                主演：莱昂纳多·迪卡普里奥,凯特·温丝莱特,比利·赞恩\\...   \n",
       "6   唐伯虎点秋香          \\n                主演：周星驰,巩俐,郑佩佩\\n           \n",
       "7     千与千寻       \\n                主演：柊瑠美,入野自由,夏木真理\\n           \n",
       "8     魂断蓝桥  \\n                主演：费雯·丽,罗伯特·泰勒,露塞尔·沃特森\\n    ...   \n",
       "9     乱世佳人  \\n                主演：费雯·丽,克拉克·盖博,奥利维娅·德哈维兰\\n  ...   \n",
       "\n",
       "          time_countries  scores        date             time country  \n",
       "0        上映时间：1993-01-01     9.6  1993-01-01  上映时间：1993-01-01          \n",
       "1    上映时间：1994-10-14(美国)     9.5  1994-10-14  上映时间：1994-10-14      美国  \n",
       "2    上映时间：1953-09-02(美国)     9.1  1953-09-02  上映时间：1953-09-02      美国  \n",
       "3    上映时间：1994-09-14(法国)     9.5  1994-09-14  上映时间：1994-09-14      法国  \n",
       "4    上映时间：1972-03-24(美国)     9.3  1972-03-24  上映时间：1972-03-24      美国  \n",
       "5        上映时间：1998-04-03     9.5  1998-04-03  上映时间：1998-04-03          \n",
       "6  上映时间：1993-07-01(中国香港)     9.2  1993-07-01  上映时间：1993-07-01    中国香港  \n",
       "7    上映时间：2001-07-20(日本)     9.3  2001-07-20  上映时间：2001-07-20      日本  \n",
       "8    上映时间：1940-05-17(美国)     9.2  1940-05-17  上映时间：1940-05-17      美国  \n",
       "9    上映时间：1939-12-15(美国)     9.1  1939-12-15  上映时间：1939-12-15      美国  "
      ]
     },
     "execution_count": 68,
     "metadata": {},
     "output_type": "execute_result"
    }
   ],
   "source": [
    "def get_country(x):\n",
    "    if len (x) > 15:\n",
    "        return x.split('(')[1].split(')')[0]\n",
    "    else:\n",
    "        return''\n",
    "df['country'] = df['time_countries'].apply(get_country)\n",
    "df"
   ]
  },
  {
   "cell_type": "code",
   "execution_count": 65,
   "metadata": {},
   "outputs": [
    {
     "data": {
      "text/plain": [
       "0          上映时间：1993-01-01\n",
       "1      上映时间：1994-10-14(美国)\n",
       "2      上映时间：1953-09-02(美国)\n",
       "3      上映时间：1994-09-14(法国)\n",
       "4      上映时间：1972-03-24(美国)\n",
       "5          上映时间：1998-04-03\n",
       "6    上映时间：1993-07-01(中国香港)\n",
       "7      上映时间：2001-07-20(日本)\n",
       "8      上映时间：1940-05-17(美国)\n",
       "9      上映时间：1939-12-15(美国)\n",
       "Name: time_countries, dtype: object"
      ]
     },
     "execution_count": 65,
     "metadata": {},
     "output_type": "execute_result"
    }
   ],
   "source": [
    "df['time_countries']"
   ]
  },
  {
   "cell_type": "code",
   "execution_count": 66,
   "metadata": {},
   "outputs": [
    {
     "data": {
      "text/plain": [
       "0        \n",
       "1      美国\n",
       "2      美国\n",
       "3      法国\n",
       "4      美国\n",
       "5        \n",
       "6    中国香港\n",
       "7      日本\n",
       "8      美国\n",
       "9      美国\n",
       "Name: time_countries, dtype: object"
      ]
     },
     "execution_count": 66,
     "metadata": {},
     "output_type": "execute_result"
    }
   ],
   "source": [
    "df['time_countries'].apply(get_country)"
   ]
  },
  {
   "cell_type": "code",
   "execution_count": null,
   "metadata": {},
   "outputs": [],
   "source": []
  },
  {
   "cell_type": "code",
   "execution_count": null,
   "metadata": {},
   "outputs": [],
   "source": []
  },
  {
   "cell_type": "code",
   "execution_count": null,
   "metadata": {},
   "outputs": [],
   "source": [
    "def get_country(x):\n",
    "    try:\n",
    "        return x.split('：')[1].split('(')[1][:-1]\n",
    "    except:\n",
    "        return''\n",
    "\n",
    "df['country'] = df['time_countries'].apply(get_country)\n",
    "df"
   ]
  },
  {
   "cell_type": "code",
   "execution_count": null,
   "metadata": {},
   "outputs": [],
   "source": []
  }
 ],
 "metadata": {
  "kernelspec": {
   "display_name": "Python 3",
   "language": "python",
   "name": "python3"
  },
  "language_info": {
   "codemirror_mode": {
    "name": "ipython",
    "version": 3
   },
   "file_extension": ".py",
   "mimetype": "text/x-python",
   "name": "python",
   "nbconvert_exporter": "python",
   "pygments_lexer": "ipython3",
   "version": "3.7.0"
  }
 },
 "nbformat": 4,
 "nbformat_minor": 2
}
